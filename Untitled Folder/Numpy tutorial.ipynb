{
 "cells": [
  {
   "cell_type": "markdown",
   "id": "35853e28",
   "metadata": {},
   "source": [
    "## Load in Numpy (remember to pip install numpy first)"
   ]
  },
  {
   "cell_type": "code",
   "execution_count": 2,
   "id": "867d620c",
   "metadata": {},
   "outputs": [],
   "source": [
    "import numpy as np"
   ]
  },
  {
   "cell_type": "markdown",
   "id": "be195115",
   "metadata": {},
   "source": [
    "## Basics"
   ]
  },
  {
   "cell_type": "code",
   "execution_count": 3,
   "id": "67bd58cc",
   "metadata": {},
   "outputs": [
    {
     "name": "stdout",
     "output_type": "stream",
     "text": [
      "[1 2 3]\n"
     ]
    }
   ],
   "source": [
    "a = np.array([1,2,3])\n",
    "print(a)"
   ]
  },
  {
   "cell_type": "code",
   "execution_count": 4,
   "id": "c753ae70",
   "metadata": {},
   "outputs": [
    {
     "name": "stdout",
     "output_type": "stream",
     "text": [
      "[[9. 8. 7.]\n",
      " [6. 5. 4.]]\n"
     ]
    }
   ],
   "source": [
    "b = np.array([[9.0,8.0,7.0], [6.0,5.0,4.0]])\n",
    "print(b)"
   ]
  },
  {
   "cell_type": "code",
   "execution_count": 5,
   "id": "db07aeb7",
   "metadata": {},
   "outputs": [
    {
     "data": {
      "text/plain": [
       "1"
      ]
     },
     "execution_count": 5,
     "metadata": {},
     "output_type": "execute_result"
    }
   ],
   "source": [
    "# dimention \n",
    "\n",
    "a.ndim"
   ]
  },
  {
   "cell_type": "code",
   "execution_count": 7,
   "id": "75576a44",
   "metadata": {},
   "outputs": [
    {
     "data": {
      "text/plain": [
       "(2, 3)"
      ]
     },
     "execution_count": 7,
     "metadata": {},
     "output_type": "execute_result"
    }
   ],
   "source": [
    "# shape\n",
    "\n",
    "b.shape"
   ]
  },
  {
   "cell_type": "code",
   "execution_count": 10,
   "id": "9eb4ebfb",
   "metadata": {},
   "outputs": [
    {
     "data": {
      "text/plain": [
       "dtype('int32')"
      ]
     },
     "execution_count": 10,
     "metadata": {},
     "output_type": "execute_result"
    }
   ],
   "source": [
    "a.dtype"
   ]
  },
  {
   "cell_type": "code",
   "execution_count": 12,
   "id": "de8081f4",
   "metadata": {},
   "outputs": [
    {
     "data": {
      "text/plain": [
       "8"
      ]
     },
     "execution_count": 12,
     "metadata": {},
     "output_type": "execute_result"
    }
   ],
   "source": [
    "b.itemsize"
   ]
  },
  {
   "cell_type": "code",
   "execution_count": null,
   "id": "4aef77b8",
   "metadata": {},
   "outputs": [],
   "source": []
  },
  {
   "cell_type": "markdown",
   "id": "54cd0160",
   "metadata": {},
   "source": [
    "### Accesing/changing specific iten elements, rows, columns, etc"
   ]
  },
  {
   "cell_type": "code",
   "execution_count": 13,
   "id": "4a357b2f",
   "metadata": {},
   "outputs": [
    {
     "name": "stdout",
     "output_type": "stream",
     "text": [
      "[[ 1  2  3  4  5  6  7]\n",
      " [ 8  9 10 11 12 13 14]]\n"
     ]
    }
   ],
   "source": [
    "a = np.array([[1,2,3,4,5,6,7], [8,9,10,11,12,13,14]])\n",
    "print(a)"
   ]
  },
  {
   "cell_type": "code",
   "execution_count": 14,
   "id": "dc406d3d",
   "metadata": {},
   "outputs": [
    {
     "data": {
      "text/plain": [
       "13"
      ]
     },
     "execution_count": 14,
     "metadata": {},
     "output_type": "execute_result"
    }
   ],
   "source": [
    "# getting an element, we use the [row, column] pattern in this case of 2 dimenssional array\n",
    "\n",
    "a[1,5]"
   ]
  },
  {
   "cell_type": "code",
   "execution_count": 15,
   "id": "4d483a33",
   "metadata": {},
   "outputs": [
    {
     "data": {
      "text/plain": [
       "array([1, 2, 3, 4, 5, 6, 7])"
      ]
     },
     "execution_count": 15,
     "metadata": {},
     "output_type": "execute_result"
    }
   ],
   "source": [
    "# getting the first row\n",
    "a[0, :]"
   ]
  },
  {
   "cell_type": "code",
   "execution_count": 16,
   "id": "49c622d5",
   "metadata": {},
   "outputs": [
    {
     "data": {
      "text/plain": [
       "array([ 3, 10])"
      ]
     },
     "execution_count": 16,
     "metadata": {},
     "output_type": "execute_result"
    }
   ],
   "source": [
    "## getting all specific columns\n",
    "a[:, 2]"
   ]
  },
  {
   "cell_type": "code",
   "execution_count": 19,
   "id": "ac53cb8e",
   "metadata": {},
   "outputs": [
    {
     "data": {
      "text/plain": [
       "array([2, 4, 6])"
      ]
     },
     "execution_count": 19,
     "metadata": {},
     "output_type": "execute_result"
    }
   ],
   "source": [
    "# getting alittle more fancy [startindex:endindex:stepssize]\n",
    "\n",
    "a[0, 1:6:2]"
   ]
  },
  {
   "cell_type": "code",
   "execution_count": 20,
   "id": "a5c7f5cf",
   "metadata": {},
   "outputs": [
    {
     "name": "stdout",
     "output_type": "stream",
     "text": [
      "[[ 1  2  3  4  5  6  7]\n",
      " [ 8  9 10 11 12 20 14]]\n"
     ]
    }
   ],
   "source": [
    "# changing the value of a specific element\n",
    "a[1,5] = 20\n",
    "print(a)"
   ]
  },
  {
   "cell_type": "markdown",
   "id": "bc0b7e4e",
   "metadata": {},
   "source": [
    "## initialling diffrent arry types"
   ]
  },
  {
   "cell_type": "code",
   "execution_count": 23,
   "id": "a68cde54",
   "metadata": {},
   "outputs": [
    {
     "name": "stdout",
     "output_type": "stream",
     "text": [
      "[[0 0]\n",
      " [0 0]]\n"
     ]
    }
   ],
   "source": [
    " a = np.zeros((2,2), dtype='int32')\n",
    "print(a)"
   ]
  },
  {
   "cell_type": "code",
   "execution_count": 24,
   "id": "08f30d6c",
   "metadata": {},
   "outputs": [
    {
     "name": "stdout",
     "output_type": "stream",
     "text": [
      "[1 1 1 1 1 1 1]\n"
     ]
    }
   ],
   "source": [
    "b = np.ones(7, dtype='int32')\n",
    "print(b)"
   ]
  },
  {
   "cell_type": "code",
   "execution_count": 26,
   "id": "ea8a5927",
   "metadata": {},
   "outputs": [
    {
     "name": "stdout",
     "output_type": "stream",
     "text": [
      "[[100 100 100]\n",
      " [100 100 100]\n",
      " [100 100 100]]\n"
     ]
    }
   ],
   "source": [
    "c = np.full((3,3), 100)\n",
    "print(c)"
   ]
  },
  {
   "cell_type": "code",
   "execution_count": 28,
   "id": "e3da8842",
   "metadata": {},
   "outputs": [
    {
     "data": {
      "text/plain": [
       "array([[[0.78406162, 0.33395528, 0.30867615],\n",
       "        [0.48100626, 0.38694162, 0.46370766],\n",
       "        [0.05297731, 0.74720706, 0.15183642]],\n",
       "\n",
       "       [[0.1166388 , 0.68260846, 0.8988279 ],\n",
       "        [0.67230223, 0.66530269, 0.18096044],\n",
       "        [0.03769511, 0.76247325, 0.69076839]],\n",
       "\n",
       "       [[0.39925578, 0.21754644, 0.33249529],\n",
       "        [0.51318843, 0.27813456, 0.7955027 ],\n",
       "        [0.19332545, 0.94949212, 0.17925152]],\n",
       "\n",
       "       [[0.33779371, 0.52510168, 0.80601075],\n",
       "        [0.82857904, 0.25992762, 0.47850269],\n",
       "        [0.43617295, 0.89480389, 0.12673808]]])"
      ]
     },
     "execution_count": 28,
     "metadata": {},
     "output_type": "execute_result"
    }
   ],
   "source": [
    "# Random numbers\n",
    "\n",
    "np.random.rand(4,3,3)"
   ]
  },
  {
   "cell_type": "code",
   "execution_count": 29,
   "id": "3c0c5d1c",
   "metadata": {},
   "outputs": [
    {
     "data": {
      "text/plain": [
       "array([[6, 6, 6],\n",
       "       [1, 2, 6]])"
      ]
     },
     "execution_count": 29,
     "metadata": {},
     "output_type": "execute_result"
    }
   ],
   "source": [
    "# Random integer values\n",
    "\n",
    "np.random.randint(7, size=(2,3))"
   ]
  },
  {
   "cell_type": "code",
   "execution_count": null,
   "id": "4887ed50",
   "metadata": {},
   "outputs": [],
   "source": []
  }
 ],
 "metadata": {
  "kernelspec": {
   "display_name": "Python 3 (ipykernel)",
   "language": "python",
   "name": "python3"
  },
  "language_info": {
   "codemirror_mode": {
    "name": "ipython",
    "version": 3
   },
   "file_extension": ".py",
   "mimetype": "text/x-python",
   "name": "python",
   "nbconvert_exporter": "python",
   "pygments_lexer": "ipython3",
   "version": "3.9.12"
  }
 },
 "nbformat": 4,
 "nbformat_minor": 5
}
